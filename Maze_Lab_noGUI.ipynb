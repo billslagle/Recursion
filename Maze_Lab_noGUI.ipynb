{
 "cells": [
  {
   "cell_type": "markdown",
   "id": "1d3675a1-a453-4b9e-88f8-b474708481e8",
   "metadata": {},
   "source": [
    "# Recursive Maze"
   ]
  },
  {
   "cell_type": "markdown",
   "id": "c962419c-9e30-48cd-bccd-bdfb4e186d6d",
   "metadata": {},
   "source": [
    "### simplified version: assume the game starts at upper left position (0,0); goal is lower right"
   ]
  },
  {
   "cell_type": "code",
   "execution_count": 1,
   "id": "cc9fdeca-fe2a-4e21-bcdd-15af27a74ae7",
   "metadata": {},
   "outputs": [],
   "source": [
    "# describe what the function does: tries to find an open path to go from upper left to lower right\n",
    "# input requirements (pre-conditions): a 2-D maze of 1's (walls) and 0's (open); (x,y) coordinates of starting position;\n",
    "#                                      a list of the path coordinates so far (start with empty list)\n",
    "# output changes (post-conditions)\n",
    "def find_path(maze, x, y, path=[]):\n",
    "    ''' Function Definition:\n",
    "    The function find_path is defined with 4 parameters:\n",
    "    maze: A 2D list representing the maze: 0 represents an open path, 1 represents a wall, \n",
    "          and 8 represents a visited cell.\n",
    "    x, y: The current coordinates in the maze (row, column))\n",
    "    path: A list that keeps track of the path taken so far. It defaults to an empty list.\n",
    "    '''\n",
    "    \n",
    "    if not (0 <= x < len(maze) and 0 <= y < len(maze[0])) or maze[x][y] in [1, 8]:\n",
    "        return False\n",
    "    ''' Boundary and Block Check:\n",
    "    This if condition checks two things:\n",
    "    1) Boundary Condition: (0 <= x < len(maze) and 0 <= y < len(maze[0])) checks if the current position (x, y) \n",
    "       is within the boundaries of the maze. If x or y is out of bounds, the function returns False.\n",
    "    2) Wall or Visited Check: maze[x][y] in [1, 8] checks if the current cell is a wall (1) or has already been \n",
    "    visited (8). If either condition is true, the function returns False, indicating this path is not viable.\n",
    "    '''\n",
    "    \n",
    "    if (x, y) == (len(maze) - 1, len(maze[0]) - 1):\n",
    "        path.append((x, y))\n",
    "        maze[x][y] = 8\n",
    "        return True\n",
    "    ''' Goal Check:\n",
    "    This if condition checks if the current position (x, y) is the bottom-right corner of the maze, which is the goal.\n",
    "    If the goal is reached:\n",
    "       Append to Path: The current position (x, y) is added to the path list.\n",
    "       Mark as Visited: The current cell maze[x][y] is marked as visited by setting it to 8.\n",
    "       Return True: The function returns True, indicating that the path to the goal has been found.\n",
    "    '''\n",
    "    \n",
    "    maze[x][y] = 8\n",
    "    path.append((x, y))\n",
    "    ''' Mark as Visited:\n",
    "    If the function reaches this point, it means the current cell (x, y) is a valid and unvisited cell.\n",
    "    The cell is marked as visited by setting maze[x][y] = 8.\n",
    "    The current position (x, y) is also added to the path list.\n",
    "    '''\n",
    "    \n",
    "    if any(find_path(maze, x + dx, y + dy, path) for dx, dy in [(1, 0), (0, 1), (-1, 0), (0, -1)]):\n",
    "        return True\n",
    "    '''Recursive Exploration:\n",
    "    This line recursively tries to move in one of the 4 possible directions: down, right, up, or left, by \n",
    "    adding dx and dy to x and y, respectively.\n",
    "    The any function checks if any of these recursive calls return True, meaning a path to the goal was found in \n",
    "    one of the directions.\n",
    "    If a valid path is found in any direction, the function returns True.\n",
    "    '''\n",
    "    \n",
    "    maze[x][y] = 0\n",
    "    path.pop()\n",
    "    return False\n",
    "    '''Backtrack:\n",
    "    If the recursive exploration does not find a valid path, the function backtracks:\n",
    "    Unmark Cell: current cell (x, y) is unmarked as visited by setting it back to 0: this path was not successful.\n",
    "    Remove from Path: current position (x, y) is removed from the path list since it does not lead to the goal.\n",
    "    The function returns False, indicating that no valid path to the goal was found from this position.\n",
    "    '''"
   ]
  },
  {
   "cell_type": "code",
   "execution_count": 6,
   "id": "7b49f25e-70e5-4690-952a-4a454257accb",
   "metadata": {},
   "outputs": [
    {
     "name": "stdout",
     "output_type": "stream",
     "text": [
      "Path found: [(0, 0), (0, 1), (0, 2), (1, 2), (2, 2), (2, 3), (3, 3), (3, 4), (4, 4), (5, 4), (5, 5)]\n",
      "\n",
      "[8, 8, 8, 0, 0, 1]\n",
      "[1, 1, 8, 1, 1, 0]\n",
      "[0, 0, 8, 8, 0, 0]\n",
      "[0, 0, 1, 8, 8, 0]\n",
      "[0, 0, 0, 1, 8, 0]\n",
      "[0, 0, 0, 0, 8, 8]\n"
     ]
    }
   ],
   "source": [
    "maze = [\n",
    "    [0, 0, 0, 0, 0, 1],\n",
    "    [1, 1, 0, 1, 1, 0],\n",
    "    [0, 0, 0, 0, 0, 0],\n",
    "    [0, 0, 1, 0, 0, 0],\n",
    "    [0, 0, 0, 1, 0, 0],\n",
    "    [0, 0, 0, 0, 0, 0]\n",
    "]\n",
    "start_x, start_y = 0, 0\n",
    "path = []\n",
    "\n",
    "if find_path(maze, start_x, start_y, path):\n",
    "    print(\"Path found:\", path)  #if find_path returns True\n",
    "else:\n",
    "    print(\"No path found.\")   #if find_path returns False\n",
    "\n",
    "# Output the maze with the path marked '8'\n",
    "print()\n",
    "for row in maze:\n",
    "    print(row)"
   ]
  },
  {
   "cell_type": "markdown",
   "id": "52a831c6-6150-4346-99bc-903b02b3a2f5",
   "metadata": {},
   "source": [
    "### Test Cases"
   ]
  },
  {
   "cell_type": "code",
   "execution_count": 3,
   "id": "a6fe0530-ae26-4f70-899c-369a8ce263f5",
   "metadata": {},
   "outputs": [],
   "source": [
    "# Example 1: Simple solvable maze\n",
    "maze1 = [\n",
    "    [0, 0, 0, 0],\n",
    "    [1, 1, 0, 1],\n",
    "    [0, 0, 0, 1],\n",
    "    [0, 1, 0, 0]\n",
    "]\n",
    "\n",
    "# Example 2: No solution (blocked maze)\n",
    "maze2 = [\n",
    "    [0, 0, 0, 0],\n",
    "    [1, 1, 1, 1],\n",
    "    [0, 0, 0, 1],\n",
    "    [1, 1, 1, 1]\n",
    "]\n",
    "\n",
    "# Example 3: Single path maze\n",
    "maze3 = [\n",
    "    [0, 1, 1, 1],\n",
    "    [0, 0, 1, 1],\n",
    "    [1, 0, 1, 1],\n",
    "    [1, 0, 0, 0]\n",
    "]\n",
    "\n",
    "# Example 4: 1x1 maze (trivial case)\n",
    "maze4 = [[0]]\n",
    "\n",
    "# Example 5: Fully open maze\n",
    "maze5 = [\n",
    "    [0, 0, 0],\n",
    "    [0, 0, 0],\n",
    "    [0, 0, 0]\n",
    "]\n",
    "\n",
    "# Example 6: Start or end blocked\n",
    "maze6 = [\n",
    "    [1, 0, 0],\n",
    "    [1, 1, 0],\n",
    "    [1, 0, 0]\n",
    "]"
   ]
  },
  {
   "cell_type": "code",
   "execution_count": 4,
   "id": "3ce8b430-4ad8-4320-ad15-54dc9db5dc87",
   "metadata": {},
   "outputs": [],
   "source": [
    "def test_find_path():\n",
    "    test_cases = [\n",
    "        (maze1, True),  # Solvable maze\n",
    "        (maze2, False), # Unsolvable maze\n",
    "        (maze3, True),  # Solvable maze\n",
    "        (maze4, True),  # Solvable maze\n",
    "        (maze5, True),  # Solvable maze\n",
    "        (maze6, False)  # Unsolvable maze\n",
    "    ]\n",
    "\n",
    "    for i, (maze, expected) in enumerate(test_cases):\n",
    "        path = []\n",
    "        result = find_path(maze, 0, 0, path)\n",
    "        print(f\"Test Case {i+1}: {'Passed' if result == expected else 'Failed'}\")\n",
    "        if result:\n",
    "            print(f\"Path found: {path}\")\n",
    "        else:\n",
    "            print(\"No path found\")\n"
   ]
  },
  {
   "cell_type": "code",
   "execution_count": 5,
   "id": "b5e73eca-241f-44f2-b66a-f619bafcbb83",
   "metadata": {},
   "outputs": [
    {
     "name": "stdout",
     "output_type": "stream",
     "text": [
      "Test Case 1: Passed\n",
      "Path found: [(0, 0), (0, 1), (0, 2), (1, 2), (2, 2), (3, 2), (3, 3)]\n",
      "Test Case 2: Passed\n",
      "No path found\n",
      "Test Case 3: Passed\n",
      "Path found: [(0, 0), (1, 0), (1, 1), (2, 1), (3, 1), (3, 2), (3, 3)]\n",
      "Test Case 4: Passed\n",
      "Path found: [(0, 0)]\n",
      "Test Case 5: Passed\n",
      "Path found: [(0, 0), (1, 0), (2, 0), (2, 1), (2, 2)]\n",
      "Test Case 6: Passed\n",
      "No path found\n"
     ]
    }
   ],
   "source": [
    "test_find_path()"
   ]
  },
  {
   "cell_type": "code",
   "execution_count": null,
   "id": "dd8c4ddd-568a-4ebc-8167-9878c833b8df",
   "metadata": {},
   "outputs": [],
   "source": []
  },
  {
   "cell_type": "code",
   "execution_count": null,
   "id": "c3dd9412-1e52-42f6-9c9d-33676b556e5a",
   "metadata": {},
   "outputs": [],
   "source": []
  }
 ],
 "metadata": {
  "kernelspec": {
   "display_name": "Python 3 (ipykernel)",
   "language": "python",
   "name": "python3"
  },
  "language_info": {
   "codemirror_mode": {
    "name": "ipython",
    "version": 3
   },
   "file_extension": ".py",
   "mimetype": "text/x-python",
   "name": "python",
   "nbconvert_exporter": "python",
   "pygments_lexer": "ipython3",
   "version": "3.11.5"
  }
 },
 "nbformat": 4,
 "nbformat_minor": 5
}
