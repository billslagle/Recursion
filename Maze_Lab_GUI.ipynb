{
 "cells": [
  {
   "cell_type": "markdown",
   "id": "1d3675a1-a453-4b9e-88f8-b474708481e8",
   "metadata": {},
   "source": [
    "# Recursive Maze"
   ]
  },
  {
   "cell_type": "markdown",
   "id": "c962419c-9e30-48cd-bccd-bdfb4e186d6d",
   "metadata": {},
   "source": [
    "#### GUI version; assume the game starts at upper left position (0,0); goal is lower right"
   ]
  },
  {
   "cell_type": "code",
   "execution_count": 1,
   "id": "48e98c2f-66f8-42bf-aeb9-aab23de70f67",
   "metadata": {},
   "outputs": [],
   "source": [
    "import tkinter as tk\n",
    "\n",
    "# describe what the function does: tries to find an open path to go from upper left to lower right\n",
    "# input requirements (pre-conditions): a 2-D maze of 1's (walls) and 0's (open); (x,y) coordinates of starting position;\n",
    "#                                      a list of the path coordinates so far (start with empty list)\n",
    "# output changes (post-conditions)\n",
    "def find_path(maze, x, y, path=[]):\n",
    "    if not (0 <= x < len(maze) and 0 <= y < len(maze[0])) or maze[x][y] in [1, 8]:\n",
    "        return False\n",
    "    if (x, y) == (len(maze) - 1, len(maze[0]) - 1):\n",
    "        path.append((x, y))\n",
    "        maze[x][y] = 8\n",
    "        update_gui(x, y)  # Update the GUI to color the target cell\n",
    "        return True\n",
    "\n",
    "    maze[x][y] = 8\n",
    "    path.append((x, y))\n",
    "    update_gui(x, y)  # Update the GUI to reflect the path\n",
    "    if any(find_path(maze, x + dx, y + dy, path) for dx, dy in [(1, 0), (0, 1), (-1, 0), (0, -1)]):\n",
    "        return True\n",
    "\n",
    "    maze[x][y] = 0\n",
    "    path.pop()\n",
    "    return False\n",
    "\n",
    "# Create the GUI for the maze\n",
    "class MazeGUI(tk.Tk):\n",
    "    def __init__(self, maze):\n",
    "        super().__init__()\n",
    "        self.title(\"Maze Game\")\n",
    "        self.maze = maze\n",
    "        self.cell_size = 40\n",
    "        self.canvas = tk.Canvas(self, width=len(maze[0]) * self.cell_size, height=len(maze) * self.cell_size)\n",
    "        self.canvas.pack()\n",
    "        self.draw_maze()\n",
    "\n",
    "    def draw_maze(self):\n",
    "        for i, row in enumerate(self.maze):\n",
    "            for j, cell in enumerate(row):\n",
    "                color = \"white\" if cell == 0 else \"black\"\n",
    "                self.canvas.create_rectangle(j * self.cell_size, i * self.cell_size,\n",
    "                                             (j + 1) * self.cell_size, (i + 1) * self.cell_size, fill=color)\n",
    "\n",
    "    def update_cell(self, x, y, color):\n",
    "        self.canvas.create_rectangle(y * self.cell_size, x * self.cell_size,\n",
    "                                     (y + 1) * self.cell_size, (x + 1) * self.cell_size, fill=color)\n",
    "        self.update()  # Force an update to see the progress in real time\n",
    "\n",
    "# Update the GUI to reflect the pathfinding progress\n",
    "def update_gui(x, y):\n",
    "    app.update_cell(x, y, \"blue\")\n",
    "\n",
    "# Example maze setup\n",
    "maze = [\n",
    "    [0, 0, 1, 0, 0],\n",
    "    [1, 0, 1, 0, 1],\n",
    "    [1, 0, 0, 0, 1],\n",
    "    [1, 1, 1, 0, 0],\n",
    "    [1, 1, 1, 0, 0],\n",
    "    [0, 0, 0, 1, 0]\n",
    "]\n",
    "\n",
    "# Initialize the GUI application\n",
    "app = MazeGUI(maze)\n",
    "\n",
    "# Create a button to start pathfinding\n",
    "start_button = tk.Button(app, text=\"Find Path\", command=lambda: find_path(maze, 0, 0, []))\n",
    "start_button.pack()\n",
    "\n",
    "# Start the Tkinter event loop\n",
    "app.mainloop()"
   ]
  },
  {
   "cell_type": "code",
   "execution_count": null,
   "id": "b5727de7-39ab-4949-8718-9103b100a924",
   "metadata": {},
   "outputs": [],
   "source": []
  },
  {
   "cell_type": "code",
   "execution_count": null,
   "id": "cf172ee8-4b8c-4d3a-a923-a8a14edee507",
   "metadata": {},
   "outputs": [],
   "source": []
  }
 ],
 "metadata": {
  "kernelspec": {
   "display_name": "Python 3 (ipykernel)",
   "language": "python",
   "name": "python3"
  },
  "language_info": {
   "codemirror_mode": {
    "name": "ipython",
    "version": 3
   },
   "file_extension": ".py",
   "mimetype": "text/x-python",
   "name": "python",
   "nbconvert_exporter": "python",
   "pygments_lexer": "ipython3",
   "version": "3.11.5"
  }
 },
 "nbformat": 4,
 "nbformat_minor": 5
}
